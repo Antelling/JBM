{
 "cells": [
  {
   "cell_type": "markdown",
   "metadata": {},
   "source": [
    "# DPH algorithm implementation\n",
    "\n",
    "Dominance Principle was originally proposed for Multi Demand Knapsack in\n",
    "\n",
    "> \"A new polynomial time algorithm for 0–1 multiple knapsack problem based\n",
    "        on dominant principles\", \n",
    "        \n",
    "by Balachandar and Kannan.\n",
    "        \n",
    "Dominance Principle was adapted to MDMKP in\n",
    "\n",
    "> \"A new heuristic approach for Knapsack/Covering Problem\",\n",
    "\n",
    "also by Balachandar and Kannan. This method is what this notebook implements. \n",
    "\n",
    "---\n",
    "\n",
    "https://hub.gke.mybinder.org/user/dibillilia-jbm-amdxbrwc/notebooks/DPH.ipynb\n",
    "\n",
    "---\n",
    "\n",
    "First, we must include my code for metaheuristics for the MDMKP. This contains things like the problem definition and functions to score solutions, as well as the metaheuristics. "
   ]
  },
  {
   "cell_type": "code",
   "execution_count": 3,
   "metadata": {},
   "outputs": [],
   "source": [
    "include(\"compose.jl\");"
   ]
  },
  {
   "cell_type": "markdown",
   "metadata": {},
   "source": [
    "Now we are ready to implement the Dominance Principle Heuristic. We will do this step by step, so we can observe how each step changes the data. The first step involves sorting the problem demand constraint columns by totals of the columns, and going through this list, adding the sorted column's respective items into the knapsack, as long as at least one demand constraint is violated. "
   ]
  },
  {
   "cell_type": "code",
   "execution_count": 4,
   "metadata": {},
   "outputs": [
    {
     "data": {
      "text/plain": [
       "generate_initial_bitarray"
      ]
     },
     "execution_count": 4,
     "metadata": {},
     "output_type": "execute_result"
    }
   ],
   "source": [
    "\"\"\"Returns a bitlist of all zeros with the same length as the amount of problem dimensions. \"\"\"\n",
    "function generate_initial_bitarray(problem::Problem)\n",
    "    initial_bitlist::BitArray = falses(length(problem.objective))\n",
    "    \n",
    "    demand_columns = [coeffs for (coeffs, bound) in problem.lower_bounds] #get list of demand constraint coefficients\n",
    "    #convert list into matrix:\n",
    "    demand_columns = permutedims(reshape(hcat(demand_columns...), (length(demand_columns[1]), length(demand_columns))))\n",
    "    \n",
    "    demand_bounds = [bound for (coeffs, bound) in problem.lower_bounds]\n",
    "    demand_totals = [sum(demand_columns[:,i]) for i in 1:size(demand_columns)[2]]\n",
    "\n",
    "    #we need to sort column_totals\n",
    "    zipped::Vector{Tuple{Int,Int}} = []\n",
    "    index = 0\n",
    "    for total in demand_totals\n",
    "        index += 1\n",
    "        push!(zipped, tuple(total, index))\n",
    "    end\n",
    "    sort!(zipped, by=x->x[1], rev=true)\n",
    "    \n",
    "    #we can now loop over the columns in descending order\n",
    "    for (column_total, column_index) in zipped\n",
    "        \n",
    "        #enable the bit\n",
    "        initial_bitlist[column_index] = 1\n",
    "        \n",
    "        #decrease bounds by value of respective coefficients that were just enabled\n",
    "        column_coefficients = demand_columns[:,column_index]\n",
    "        for i in 1:length(column_coefficients)\n",
    "            demand_bounds[i] -= column_coefficients[i]\n",
    "        end\n",
    "        \n",
    "        #check that we should continue\n",
    "        cont = false\n",
    "        for bound in demand_bounds\n",
    "            if bound > 0\n",
    "                cont = true\n",
    "                break\n",
    "            end\n",
    "        end\n",
    "        if !cont\n",
    "            break\n",
    "        end\n",
    "    end\n",
    "    \n",
    "    #we now have our initial starting bitlist\n",
    "    return initial_bitlist\n",
    "end"
   ]
  },
  {
   "cell_type": "markdown",
   "metadata": {},
   "source": [
    "Let's test this function:"
   ]
  },
  {
   "cell_type": "code",
   "execution_count": 5,
   "metadata": {},
   "outputs": [
    {
     "data": {
      "text/plain": [
       "\"0,1,1,0,1,1,1,1,0,0,1,1,1,0,1,1,1,1,1,1,1,1,1,0,1,1,1,1,1,0,1,1,0,1,1,1,1,1,0,1,1,1,1,1,1,1,1,1,1,0,1,1,1,1,0,0,0,1,1,1,1,1,0,0,0,1,0,1,1,1,1,1,1,0,1,1,1,1,0,1,1,1,0,0,1,1,1,1,1,1,1,1,1,1,1,1,1,1,1,0\""
      ]
     },
     "execution_count": 5,
     "metadata": {},
     "output_type": "execute_result"
    }
   ],
   "source": [
    "problem = parse_file(\"./benchmark_problems/mdmkp_ct1.txt\")[3]\n",
    "initial_solution = generate_initial_bitarray(problem)\n",
    "join([a ? \"0\" : \"1\" for a in initial_solution], \",\")"
   ]
  },
  {
   "cell_type": "code",
   "execution_count": 6,
   "metadata": {},
   "outputs": [
    {
     "data": {
      "text/plain": [
       "true"
      ]
     },
     "execution_count": 6,
     "metadata": {},
     "output_type": "execute_result"
    }
   ],
   "source": [
    "#lets check that the demand constraints are satisfied\n",
    "satisfies_demands(initial_solution, problem)"
   ]
  },
  {
   "cell_type": "code",
   "execution_count": 7,
   "metadata": {},
   "outputs": [
    {
     "data": {
      "text/plain": [
       "true"
      ]
     },
     "execution_count": 7,
     "metadata": {},
     "output_type": "execute_result"
    }
   ],
   "source": [
    "#are the dimension constraints?\n",
    "satisfies_dimensions(initial_solution,problem)"
   ]
  },
  {
   "cell_type": "code",
   "execution_count": 8,
   "metadata": {},
   "outputs": [
    {
     "data": {
      "text/plain": [
       "616"
      ]
     },
     "execution_count": 8,
     "metadata": {},
     "output_type": "execute_result"
    }
   ],
   "source": [
    "#for how many problems will this heuristic generate a feasible solution?\n",
    "total_valid = 0\n",
    "for dataset in 1:9\n",
    "    problems = parse_file(\"./benchmark_problems/mdmkp_ct$(dataset).txt\")\n",
    "    for problem in problems\n",
    "        ini_sol = generate_initial_bitarray(problem)\n",
    "        if is_valid(ini_sol, problem)\n",
    "            total_valid += 1\n",
    "        end\n",
    "    end\n",
    "end\n",
    "total_valid"
   ]
  },
  {
   "cell_type": "code",
   "execution_count": 58,
   "metadata": {},
   "outputs": [
    {
     "data": {
      "text/plain": [
       "\"Solution([1,0,1,0,1,1,0,1,0,0,0,1,0,0,1,1,1,1,1,0,1,1,1,0,0,0,1,1,0,1,1,1,0,1,1,1,1,1,0,0,1,1,1,1,1,0,1,1,1,1,1,1,1,1,1,1,1,1,1,1,1,1,1,0,0,1,1,1,1,1,1,1,0,1,1,1,1,1,0,1,0,0,0,1,1,0,1,1,1,1,1,1,1,1,1,1,1,1,1,1], 17681)\""
      ]
     },
     "execution_count": 58,
     "metadata": {},
     "output_type": "execute_result"
    }
   ],
   "source": [
    "#now we must construct the dimension intercept matrix\n",
    "function redundant_minification(problem::Problem, sol::BitArray)\n",
    "    sol = deepcopy(sol)\n",
    "    \n",
    "    n = length(problem.objective) #number of dimensions, width of coeff matrix, length of bitlist\n",
    "    m = length(problem.upper_bounds) #number of dimension constraints\n",
    "    M = 2^62 #\"M a large value\"\n",
    "    \n",
    "    A = [coeffs for (coeffs, bound) in problem.upper_bounds]\n",
    "    A = permutedims(reshape(hcat(A...), (length(A[1]), length(A))))\n",
    "\n",
    "    B = [bound for (coeffs, bound) in problem.upper_bounds]\n",
    "    \n",
    "    #our objective function has some negative values\n",
    "    #to disable a column, we set it to 0\n",
    "    #negatives are less than 0, so we end up selecting disabled columns before we select negative columns\n",
    "    #this is bad\n",
    "    #to fix it, we make negative objective values positive, but very small\n",
    "    c::Vector{Float64} = [obj > 0 ? obj : abs(obj)/1000 for obj in problem.objective]\n",
    "\n",
    "    #loop while A contains positive value\n",
    "    discovered_solutions::Population = []\n",
    "    while max(A...) > 0\n",
    "        \n",
    "        #STEP 3:\n",
    "        #construct intercept matrix\n",
    "        #next we \"Form the matrix D[i,j] for i=1,2,3...m and j =1,2,3,...n\",\n",
    "        #where m is the amount of constraints and n is number of dimensions\n",
    "        D = Array{Float64,2}(undef,m,n) #d is an m by n matrix\n",
    "        for i in 1:m\n",
    "            for j in 1:n\n",
    "                D[i,j] = A[i,j] > 0 ?\n",
    "                    B[i]/A[i,j] :\n",
    "                    0 #the paper says to set this to a large value, but that results in the same column\n",
    "                        #being selected over and over\n",
    "            end\n",
    "        end\n",
    "\n",
    "        \n",
    "#         #STEP 4:\n",
    "#         #if any column of D contains a value < 1, set the whole column of A to 0 and the respective \n",
    "#         #solution bit to 0\n",
    "#         for column_index in 1:size(D)[2]\n",
    "#             column = D[:,column_index]\n",
    "#             if min(column...) < 1\n",
    "#                 A[:,column_index] = zeros(size(A)[1])\n",
    "#                 sol[column_index] = 0\n",
    "#             end\n",
    "#         end\n",
    "\n",
    "        #STEP 5\n",
    "        #take list of minimum of each column of D\n",
    "        redundant_variables = [min(D[:,i]...) for i in 1:size(D)[2]]\n",
    "\n",
    "        #STEP 6\n",
    "        #get index of largest product of smallest value of D times respective objective function coefficient\n",
    "        products::Vector{Float64} = redundant_variables .* c\n",
    "        if max(products...) == 0.0 #check for exit condition\n",
    "            break\n",
    "        end\n",
    "        l = argmax(redundant_variables .* c)\n",
    "\n",
    "        #STEP 7\n",
    "        #step 7 is really vague, but the basic idea seems to be to put l into the knapsack as long as feasibility\n",
    "        #won't be violated\n",
    "        #do we care about dimension feasibility, demand feasibility, or both?\n",
    "        if !sol[l] #if the bit is 0\n",
    "            sol[l] = true\n",
    "            demand_feas = satisfies_demands(sol, problem)\n",
    "            dimension_feas = satisfies_dimensions(sol, problem)\n",
    "            if demand_feas && dimension_feas\n",
    "                #we must update the bounds\n",
    "                B .-= A[:,l]\n",
    "            else\n",
    "                sol[l] = false #put the bit back, its not valid\n",
    "            end\n",
    "        end\n",
    "        #regardless if we put l into the knapsack or not, we must 0 A so that l will not be chosen again\n",
    "        A[:,l] = zeros(size(A)[1])\n",
    "\n",
    "    end\n",
    "    return VND(sol, problem)\n",
    "end\n",
    "\n",
    "best_found_solution = redundant_minification(problem, initial_solution)\n",
    "get_representation(best_found_solution)"
   ]
  },
  {
   "cell_type": "code",
   "execution_count": 11,
   "metadata": {},
   "outputs": [
    {
     "data": {
      "text/plain": [
       "DPH (generic function with 1 method)"
      ]
     },
     "execution_count": 11,
     "metadata": {},
     "output_type": "execute_result"
    }
   ],
   "source": [
    "#now we combine the initial population step and the redundancy minification step to get DPH\n",
    "function DPH(problem::Problem)\n",
    "    initial_bitarray = generate_initial_bitarray(problem)\n",
    "    return redundant_minification(problem, initial_bitarray)\n",
    "end"
   ]
  },
  {
   "cell_type": "code",
   "execution_count": 12,
   "metadata": {},
   "outputs": [
    {
     "data": {
      "text/plain": [
       "simpleGA (generic function with 1 method)"
      ]
     },
     "execution_count": 12,
     "metadata": {},
     "output_type": "execute_result"
    }
   ],
   "source": [
    "#let's define a simple genetic alg, for comparison\n",
    "function simpleGA(problem::Problem)\n",
    "    pop::Population = random_init(problem, 50, ls=VND, force_valid=false)\n",
    "    P_meta_coord(pop, problem, VND, column_average_chances, use_random=true, random_n=1, time_limit=1)\n",
    "    return get_best_solution(pop)\n",
    "end"
   ]
  },
  {
   "cell_type": "code",
   "execution_count": 61,
   "metadata": {},
   "outputs": [
    {
     "name": "stdout",
     "output_type": "stream",
     "text": [
      "18267 15267\n",
      "11468 -11929\n",
      "-37 -8148\n",
      "9615 6589\n",
      "3775 -11929\n",
      "-71 -8148\n",
      "18014 14990\n",
      "9944 -3713\n",
      "-446 -11498\n",
      "10626 9242\n",
      "3828 -3713\n",
      "-666 -11498\n",
      "20013 16360\n",
      "13634 -3129\n",
      "-367 -9690\n",
      "10488 9043\n",
      "3657 -3129\n",
      "-562 -9690\n",
      "18747 17102\n",
      "9534 -24646\n",
      "-555 -2585\n",
      "10331 6400\n",
      "-2 -24646\n",
      "-210 -2585\n",
      "18396 13005\n",
      "1001 -962\n",
      "-703 -4869\n",
      "9879 7160\n",
      "1482 -962\n",
      "-331 -4869\n",
      "37390 32517\n",
      "23701 -1705\n",
      "-5 -8187\n",
      "19382 17106\n",
      "2515 -1705\n",
      "503 -8187\n",
      "40155 37928\n",
      "2530 -579\n",
      "-4 -10674\n",
      "20619 19844\n",
      "2589 -579\n",
      "-77 -10674\n",
      "36999 34121\n",
      "1979 -984\n",
      "-13 -4974\n",
      "19650 18599\n",
      "3141 -984\n",
      "-219 -4974\n",
      "39041 34573\n",
      "2736 -889\n",
      "-157 -9641\n",
      "19329 17962\n",
      "2717 -889\n",
      "-365 -9641\n",
      "40707 36058\n",
      "26684 -6\n",
      "-266 -39904\n",
      "20018 18662\n",
      "7981 2468\n",
      "266 -39904\n",
      "52557 50901\n",
      "1073 -1577\n",
      "-676 -6320\n",
      "27978 27487\n",
      "869 -1577\n",
      "-1279 -6320\n",
      "55859 49991\n",
      "666 -682\n",
      "-566 -6788\n",
      "27099 25124\n",
      "1365 -682\n",
      "-346 -6788\n",
      "60839 58138\n",
      "2375 -2329\n",
      "-25 -4064\n",
      "28339 27067\n",
      "1284 -2329\n",
      "-84 -4064\n",
      "57554 55455\n",
      "2454 -344\n",
      "-696 -14132\n",
      "27147 26046\n",
      "1527 -344\n",
      "-817 -14132\n",
      "54798 52939\n",
      "-1 -1626\n",
      "-504 -9618\n",
      "27986 26490\n",
      "1453 -1626\n",
      "-484 -9618\n",
      "58359 49446\n",
      "3815 3028\n",
      "-1032 -1511\n",
      "7648 22312\n",
      "3233 1783\n",
      "-1217 -1511\n",
      "9755 49279\n",
      "6345 -978\n",
      "-777 -1060\n",
      "26079 20455\n",
      "11288 -978\n",
      "-430 -1060\n",
      "13515 51057\n",
      "4056 3625\n",
      "-591 -1570\n",
      "26036 23843\n",
      "7496 2961\n",
      "-2314 -1570\n",
      "56586 49838\n",
      "5093 8316\n",
      "-48 -5603\n",
      "25774 23726\n",
      "5801 3900\n",
      "-1339 -5603\n",
      "56717 51878\n",
      "6330 -102\n",
      "-1087 -230\n",
      "22542 23239\n",
      "5364 -102\n",
      "-830 -230\n",
      "17812 97918\n",
      "1233 9148\n",
      "-1671 -358\n",
      "13925 46989\n",
      "10452 8593\n",
      "-2058 -358\n",
      "107746 103026\n",
      "8971 14442\n",
      "-2390 -1933\n",
      "48310 47396\n",
      "10189 13024\n",
      "-1903 -1933\n",
      "18488 99944\n",
      "5887 11756\n",
      "-2128 -1604\n",
      "45216 45404\n",
      "-25 8107\n",
      "-6556 -1604\n",
      "106969 104457\n",
      "-362 8965\n",
      "-6478 -2\n",
      "18974 49301\n",
      "-328 7651\n",
      "-2191 -2\n",
      "17776 102315\n",
      "5401 10427\n",
      "-467 -1373\n",
      "44853 46072\n",
      "9443 7904\n",
      "7166 -1373\n",
      "152805 151532\n",
      "-696 99166\n",
      "-2890 -54\n",
      "62962 62309\n",
      "6719 42178\n",
      "-3055 -54\n",
      "157063 158744\n",
      "-169 99423\n",
      "-3179 -182\n",
      "66238 65262\n",
      "5705 34860\n",
      "-1022 -182\n",
      "153489 150397\n",
      "3454 98355\n",
      "-1269 8077\n",
      "66760 66833\n",
      "6361 39294\n",
      "-568 6849\n",
      "20426 153793\n",
      "7244 103078\n",
      "-3083 -2010\n",
      "67949 69857\n",
      "-58 37546\n",
      "-238 -2010\n",
      "16642 147684\n",
      "-18 104077\n",
      "-1146 -1866\n",
      "58550 68006\n",
      "2000 42143\n",
      "-3937 -1866\n"
     ]
    }
   ],
   "source": [
    "#lets loop over every problem in dataset 1, and compare the performance\n",
    "for dataset in 7:8\n",
    "    problems = parse_file(\"./benchmark_problems/mdmkp_ct$(dataset).txt\")\n",
    "    for problem in problems\n",
    "        DPH_sol = DPH(problem)\n",
    "        GA_sol = simpleGA(problem)\n",
    "        println(GA_sol.score,\" \",DPH_sol.score)\n",
    "    end\n",
    "end"
   ]
  }
 ],
 "metadata": {
  "@webio": {
   "lastCommId": "42728d7538c2466ead039b00ba350d43",
   "lastKernelId": "976010f4-dd75-4d45-bc87-71fb7d3c6566"
  },
  "kernelspec": {
   "display_name": "Julia 1.1.0",
   "language": "julia",
   "name": "julia-1.1"
  },
  "language_info": {
   "file_extension": ".jl",
   "mimetype": "application/julia",
   "name": "julia",
   "version": "1.1.0"
  }
 },
 "nbformat": 4,
 "nbformat_minor": 2
}
