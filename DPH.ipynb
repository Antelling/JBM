{
 "cells": [
  {
   "cell_type": "markdown",
   "metadata": {},
   "source": [
    "# DPH algorithm implementation\n",
    "\n",
    "Dominance Principle was originally proposed for Multi Demand Knapsack in\n",
    "\n",
    "> \"A new polynomial time algorithm for 0–1 multiple knapsack problem based\n",
    "        on dominant principles\", \n",
    "        \n",
    "by Balachandar and Kannan.\n",
    "        \n",
    "Dominance Principle was adapted to MDMKP in\n",
    "\n",
    "> \"A new heuristic approach for Knapsack/Covering Problem\",\n",
    "\n",
    "also by Balachandar and Kannan. This method is what this notebook implements. \n",
    "\n",
    "---\n",
    "\n",
    "First, we must include my code for metaheuristics for the MDMKP. This contains things like the problem definition and functions to score solutions, as well as the metaheuristics. "
   ]
  },
  {
   "cell_type": "code",
   "execution_count": 46,
   "metadata": {},
   "outputs": [],
   "source": [
    "include(\"compose.jl\");"
   ]
  },
  {
   "cell_type": "markdown",
   "metadata": {},
   "source": [
    "Now we are ready to implement the Dominance Principle Heuristic. We will do this step by step, so we can observe how each step changes the data. The first step involves sorting the problem demand constraint columns by totals of the columns, and going through this list, adding the sorted column's respective items into the knapsack, as long as at least one demand constraint is violated. "
   ]
  },
  {
   "cell_type": "code",
   "execution_count": 32,
   "metadata": {},
   "outputs": [
    {
     "data": {
      "text/plain": [
       "generate_initial_bitarray"
      ]
     },
     "execution_count": 32,
     "metadata": {},
     "output_type": "execute_result"
    }
   ],
   "source": [
    "\"\"\"Returns a bitlist of all zeros with the same length as the amount of problem dimensions. \"\"\"\n",
    "function generate_initial_bitarray(problem::Problem)\n",
    "    initial_bitlist::BitArray = falses(length(problem.objective))\n",
    "    \n",
    "    demand_columns = [coeffs for (coeffs, bound) in problem.lower_bounds] #get list of demand constraint coefficients\n",
    "    #convert list into matrix:\n",
    "    demand_columns = permutedims(reshape(hcat(demand_columns...), (length(demand_columns[1]), length(demand_columns))))\n",
    "    \n",
    "    demand_bounds = [bound for (coeffs, bound) in problem.lower_bounds]\n",
    "    demand_totals = [sum(demand_columns[:,i]) for i in 1:size(demand_columns)[2]]\n",
    "\n",
    "    #we need to sort column_totals\n",
    "    zipped::Vector{Tuple{Int,Int}} = []\n",
    "    index = 0\n",
    "    for total in demand_totals\n",
    "        index += 1\n",
    "        push!(zipped, tuple(total, index))\n",
    "    end\n",
    "    sort!(zipped, by=x->x[1], rev=true)\n",
    "    \n",
    "    #we can now loop over the columns in descending order\n",
    "    for (column_total, column_index) in zipped\n",
    "        \n",
    "        #enable the bit\n",
    "        initial_bitlist[column_index] = 1\n",
    "        \n",
    "        #decrease bounds by value of respective coefficients that were just enabled\n",
    "        column_coefficients = demand_columns[:,column_index]\n",
    "        for i in 1:length(column_coefficients)\n",
    "            demand_bounds[i] -= column_coefficients[i]\n",
    "        end\n",
    "        \n",
    "        #check that we should continue\n",
    "        cont = false\n",
    "        for bound in demand_bounds\n",
    "            if bound > 0\n",
    "                cont = true\n",
    "                break\n",
    "            end\n",
    "        end\n",
    "        if !cont\n",
    "            break\n",
    "        end\n",
    "    end\n",
    "    \n",
    "    #we now have our initial starting bitlist\n",
    "    return initial_bitlist\n",
    "end"
   ]
  },
  {
   "cell_type": "markdown",
   "metadata": {},
   "source": [
    "Let's test this function:"
   ]
  },
  {
   "cell_type": "code",
   "execution_count": 36,
   "metadata": {},
   "outputs": [
    {
     "data": {
      "text/plain": [
       "100-element BitArray{1}:\n",
       "  true\n",
       " false\n",
       " false\n",
       "  true\n",
       " false\n",
       " false\n",
       " false\n",
       " false\n",
       "  true\n",
       "  true\n",
       " false\n",
       " false\n",
       " false\n",
       "     ⋮\n",
       " false\n",
       " false\n",
       " false\n",
       " false\n",
       " false\n",
       " false\n",
       " false\n",
       " false\n",
       " false\n",
       " false\n",
       " false\n",
       "  true"
      ]
     },
     "execution_count": 36,
     "metadata": {},
     "output_type": "execute_result"
    }
   ],
   "source": [
    "problem = parse_file(\"./benchmark_problems/mdmkp_ct1.txt\")[3]\n",
    "initial_solution = generate_initial_bitarray(problem)"
   ]
  },
  {
   "cell_type": "code",
   "execution_count": 43,
   "metadata": {},
   "outputs": [
    {
     "data": {
      "text/plain": [
       "true"
      ]
     },
     "execution_count": 43,
     "metadata": {},
     "output_type": "execute_result"
    }
   ],
   "source": [
    "satisfies_demands(initial_solution, problem) #lets check that the demand constraints are satisfied"
   ]
  },
  {
   "cell_type": "code",
   "execution_count": 44,
   "metadata": {},
   "outputs": [
    {
     "data": {
      "text/plain": [
       "true"
      ]
     },
     "execution_count": 44,
     "metadata": {},
     "output_type": "execute_result"
    }
   ],
   "source": [
    "#are the dimension constraints?\n",
    "satisfies_dimensions(initial_solution,problem)"
   ]
  },
  {
   "cell_type": "code",
   "execution_count": 48,
   "metadata": {},
   "outputs": [
    {
     "data": {
      "text/plain": [
       "616"
      ]
     },
     "execution_count": 48,
     "metadata": {},
     "output_type": "execute_result"
    }
   ],
   "source": [
    "#for how many problems will this heuristic generate a feasible solution?\n",
    "total_valid = 0\n",
    "for dataset in 1:9\n",
    "    problems = parse_file(\"./benchmark_problems/mdmkp_ct$(dataset).txt\")\n",
    "    for problem in problems\n",
    "        ini_sol = generate_initial_bitarray(problem)\n",
    "        if is_valid(ini_sol, problem)\n",
    "            total_valid += 1\n",
    "        end\n",
    "    end\n",
    "end\n",
    "total_valid"
   ]
  },
  {
   "cell_type": "code",
   "execution_count": null,
   "metadata": {},
   "outputs": [],
   "source": [
    "#now we must construct the dimension intercept matrix\n",
    "function generate_intercept_matrix(problem::Problem)\n",
    "    "
   ]
  }
 ],
 "metadata": {
  "@webio": {
   "lastCommId": "319ed98d55614dcc8e7e489c4cb6b067",
   "lastKernelId": "27d48496-de10-452e-bffb-198ad426d3fa"
  },
  "kernelspec": {
   "display_name": "Julia 1.1.0",
   "language": "julia",
   "name": "julia-1.1"
  },
  "language_info": {
   "file_extension": ".jl",
   "mimetype": "application/julia",
   "name": "julia",
   "version": "1.1.0"
  }
 },
 "nbformat": 4,
 "nbformat_minor": 2
}
